{
 "cells": [
  {
   "cell_type": "code",
   "execution_count": null,
   "metadata": {},
   "outputs": [],
   "source": [
    "import pandas as pd\n",
    "import numpy as np\n",
    "\n",
    "df_sla = pd.read_csv('sla_12_07_2023.csv', sep=',', converters=dict(IEF=np.float64, Matrícula=str, Latitude=np.float64, Longitude=np.float64)) \\\n",
    "    .iloc[:, [0,1,2,3,4, 9, 10, 11]]\n",
    "df_enderecos = pd.read_csv('enderecos1.csv', sep=',', converters=dict(Matrícula=str)).iloc[:, [1,2,3,4,5,6,7,8,11,14,15,23,24,25,26,27,29,30]]\n",
    "df_sla.IEF = df_sla.IEF.apply(lambda x: round(x * 100, 2))\n",
    "display(df_sla.head())\n",
    "display(df_enderecos.head())"
   ]
  },
  {
   "cell_type": "markdown",
   "metadata": {},
   "source": [
    "#### Tratamento de dados"
   ]
  },
  {
   "cell_type": "code",
   "execution_count": null,
   "metadata": {},
   "outputs": [],
   "source": [
    "import matplotlib.pyplot as plt\n",
    "import seaborn as sns\n",
    "\n",
    "print('Matrícula' in df_enderecos.columns)\n",
    "print([(idx, element) for idx,element in enumerate(df_enderecos.columns)])\n",
    "descs = df_sla[['IEF']].describe().drop('count').round(2)\n",
    "sns.barplot(descs, x=descs.index, y='IEF')\n"
   ]
  },
  {
   "cell_type": "code",
   "execution_count": null,
   "metadata": {},
   "outputs": [],
   "source": [
    "concatenado = pd.merge(df_sla, df_enderecos, how='left', on='Matrícula', suffixes=['', '_y'])\n",
    "display(concatenado)"
   ]
  },
  {
   "cell_type": "code",
   "execution_count": null,
   "metadata": {},
   "outputs": [],
   "source": [
    "print(concatenado.columns)\n",
    "concatenado.drop(columns=['Latitude_y', 'Longitude_y'], inplace=True)"
   ]
  },
  {
   "cell_type": "code",
   "execution_count": null,
   "metadata": {},
   "outputs": [],
   "source": [
    "concatenado.to_excel('cp_sla_com_endereco_instcomgas.xlsx', sheet_name='base_de_dados', na_rep='-', freeze_panes=(1,1), index=False)"
   ]
  }
 ],
 "metadata": {
  "kernelspec": {
   "display_name": "Python 3",
   "language": "python",
   "name": "python3"
  },
  "language_info": {
   "codemirror_mode": {
    "name": "ipython",
    "version": 3
   },
   "file_extension": ".py",
   "mimetype": "text/x-python",
   "name": "python",
   "nbconvert_exporter": "python",
   "pygments_lexer": "ipython3",
   "version": "3.11.1"
  },
  "orig_nbformat": 4
 },
 "nbformat": 4,
 "nbformat_minor": 2
}
