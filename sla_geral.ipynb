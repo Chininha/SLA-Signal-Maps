{
 "cells": [
  {
   "cell_type": "code",
   "execution_count": 16,
   "metadata": {},
   "outputs": [],
   "source": [
    "import pandas as pd\n",
    "\n",
    "projeto_comgas22 = pd.read_excel('SLAinst_comgas2022/sla_com_endereco_instcomgas2022.xlsx', sheet_name='base_de_dados')\n",
    "projeto_comgas23 = pd.read_excel('SLAinst_comgas2023/sla_com_endereco_instcomgas2023.xlsx', sheet_name='base_de_dados')\n",
    "projeto_instcomgas = pd.read_excel('SLAinst_comgas/cp_sla_com_endereco_instcomgas.xlsx', sheet_name='base_de_dados')"
   ]
  },
  {
   "cell_type": "code",
   "execution_count": 17,
   "metadata": {},
   "outputs": [],
   "source": [
    "projeto_comgas22.to_csv('cp_sla_comgas22.csv', sep=';', index=False, na_rep='-', encoding='utf-8')\n",
    "projeto_comgas23.to_csv('cp_sla_comgas23.csv', sep=';', index=False, na_rep='-', encoding='utf-8')\n",
    "projeto_instcomgas.to_csv('cp_sla_instcomgas.csv', sep=';', index=False, na_rep='-', encoding='utf-8')"
   ]
  },
  {
   "cell_type": "code",
   "execution_count": 18,
   "metadata": {},
   "outputs": [],
   "source": [
    "projeto_comgas22 = pd.read_csv('cp_sla_comgas22.csv', on_bad_lines='skip', sep=';')\n",
    "projeto_comgas23 = pd.read_csv('cp_sla_comgas23.csv', on_bad_lines='skip', sep=';')\n",
    "projeto_instcomgas = pd.read_csv('cp_sla_instcomgas.csv', on_bad_lines='skip', sep=';')"
   ]
  },
  {
   "cell_type": "code",
   "execution_count": 19,
   "metadata": {},
   "outputs": [],
   "source": [
    "concatenado = pd.concat([projeto_comgas22, projeto_comgas23, projeto_instcomgas], axis=0, ignore_index=False)"
   ]
  },
  {
   "cell_type": "code",
   "execution_count": null,
   "metadata": {},
   "outputs": [],
   "source": [
    "concatenado.to_csv('cp_todos_projetos_comgas.csv', sep=';', encoding='utf-8', index=False)"
   ]
  },
  {
   "cell_type": "markdown",
   "metadata": {},
   "source": [
    "### Análise dos gateways: alcance"
   ]
  },
  {
   "cell_type": "code",
   "execution_count": 2,
   "metadata": {},
   "outputs": [
    {
     "name": "stdout",
     "output_type": "stream",
     "text": [
      "[-23.6144     -23.61438009 -23.61436026 -23.61434059 -23.61432116\n",
      " -23.61430205 -23.61428333 -23.61426508 -23.61424737 -23.61423028\n",
      " -23.61421387 -23.61419821 -23.61418337 -23.6141694  -23.61415635\n",
      " -23.61414429 -23.61413325 -23.61412329 -23.61411445 -23.61410675\n",
      " -23.61410023 -23.61409493 -23.61409085 -23.61408801 -23.61408643\n",
      " -23.61408612 -23.61408706 -23.61408927 -23.61409273 -23.61409743\n",
      " -23.61410334 -23.61411045 -23.61411873 -23.61412814 -23.61413864\n",
      " -23.61415019 -23.61416275 -23.61417627 -23.61419069 -23.61420595\n",
      " -23.61422199 -23.61423875 -23.61425615 -23.61427414 -23.61429263\n",
      " -23.61431156 -23.61433084 -23.6143504  -23.61437016 -23.61439004\n",
      " -23.61440996 -23.61442984 -23.6144496  -23.61446916 -23.61448844\n",
      " -23.61450737 -23.61452586 -23.61454385 -23.61456125 -23.61457801\n",
      " -23.61459405 -23.61460931 -23.61462373 -23.61463725 -23.61464981\n",
      " -23.61466136 -23.61467186 -23.61468127 -23.61468955 -23.61469666\n",
      " -23.61470257 -23.61470727 -23.61471073 -23.61471294 -23.61471388\n",
      " -23.61471357 -23.61471199 -23.61470915 -23.61470507 -23.61469977\n",
      " -23.61469325 -23.61468555 -23.61467671 -23.61466675 -23.61465571\n",
      " -23.61464365 -23.6146306  -23.61461663 -23.61460179 -23.61458613\n",
      " -23.61456972 -23.61455263 -23.61453492 -23.61451667 -23.61449795\n",
      " -23.61447884 -23.61445941 -23.61443974 -23.61441991 -23.6144    ]\n"
     ]
    }
   ],
   "source": [
    "import numpy as np\n",
    "\n",
    "latitude = -23.6144\n",
    "longitude = -46.5345\n",
    "\n",
    "radius = 2000\n",
    "num_pts = 100\n",
    "angulos = np.linspace(0, 2 * np.pi, num=num_pts)\n",
    "circulo_de_latitude = latitude + (radius/6371000) * np.sin(angulos)\n",
    "circulo_de_longitude = longitude + (radius/6371000) * np.cos(angulos)\n",
    "print(circulo_de_latitude)"
   ]
  }
 ],
 "metadata": {
  "kernelspec": {
   "display_name": "Python 3",
   "language": "python",
   "name": "python3"
  },
  "language_info": {
   "codemirror_mode": {
    "name": "ipython",
    "version": 3
   },
   "file_extension": ".py",
   "mimetype": "text/x-python",
   "name": "python",
   "nbconvert_exporter": "python",
   "pygments_lexer": "ipython3",
   "version": "3.11.1"
  },
  "orig_nbformat": 4
 },
 "nbformat": 4,
 "nbformat_minor": 2
}
