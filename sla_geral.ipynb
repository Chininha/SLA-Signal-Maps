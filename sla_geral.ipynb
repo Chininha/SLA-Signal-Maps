{
 "cells": [
  {
   "cell_type": "code",
   "execution_count": 4,
   "metadata": {},
   "outputs": [],
   "source": [
    "import pandas as pd\n",
    "\n",
    "projeto_comgas22 = pd.read_excel('SLAinst_comgas2022/sla_com_endereco_instcomgas2022.xlsx', sheet_name='base_de_dados')\n",
    "projeto_comgas23 = pd.read_excel('SLAinst_comgas2023/sla_com_endereco_instcomgas2023.xlsx', sheet_name='base_de_dados')\n",
    "projeto_instcomgas = pd.read_excel('SLAinst_comgas/cp_sla_com_endereco_instcomgas.xlsx', sheet_name='base_de_dados')"
   ]
  },
  {
   "cell_type": "code",
   "execution_count": 8,
   "metadata": {},
   "outputs": [],
   "source": [
    "projeto_comgas22.to_csv('sla_comgas22.csv', sep=';', index=False, na_rep='-', encoding='utf-8')\n",
    "projeto_comgas23.to_csv('sla_comgas23.csv', sep=';', index=False, na_rep='-', encoding='utf-8')\n",
    "projeto_instcomgas.to_csv('sla_instcomgas.csv', sep=';', index=False, na_rep='-', encoding='utf-8')"
   ]
  },
  {
   "cell_type": "code",
   "execution_count": 12,
   "metadata": {},
   "outputs": [],
   "source": [
    "projeto_comgas22 = pd.read_csv('sla_comgas22.csv', on_bad_lines='skip', sep=';')\n",
    "projeto_comgas23 = pd.read_csv('sla_comgas23.csv', on_bad_lines='skip', sep=';')\n",
    "projeto_instcomgas = pd.read_csv('sla_instcomgas.csv', on_bad_lines='skip', sep=';')"
   ]
  },
  {
   "cell_type": "code",
   "execution_count": 13,
   "metadata": {},
   "outputs": [],
   "source": [
    "concatenado = pd.concat([projeto_comgas22, projeto_comgas23, projeto_instcomgas], axis=0, ignore_index=False)"
   ]
  },
  {
   "cell_type": "code",
   "execution_count": 15,
   "metadata": {},
   "outputs": [],
   "source": [
    "concatenado.to_csv('todos_projetos_comgas.csv', sep=';', encoding='utf-8', index=False)"
   ]
  }
 ],
 "metadata": {
  "kernelspec": {
   "display_name": "Python 3",
   "language": "python",
   "name": "python3"
  },
  "language_info": {
   "codemirror_mode": {
    "name": "ipython",
    "version": 3
   },
   "file_extension": ".py",
   "mimetype": "text/x-python",
   "name": "python",
   "nbconvert_exporter": "python",
   "pygments_lexer": "ipython3",
   "version": "3.11.1"
  },
  "orig_nbformat": 4
 },
 "nbformat": 4,
 "nbformat_minor": 2
}
