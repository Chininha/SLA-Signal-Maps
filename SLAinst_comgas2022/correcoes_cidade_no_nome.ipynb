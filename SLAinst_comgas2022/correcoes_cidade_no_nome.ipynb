{
 "cells": [
  {
   "cell_type": "code",
   "execution_count": null,
   "metadata": {},
   "outputs": [],
   "source": [
    "import pandas as pd\n",
    "\n",
    "df = pd.read_excel('para_corrigirgrupo_nome.xlsx')\n",
    "df.head()"
   ]
  },
  {
   "cell_type": "code",
   "execution_count": null,
   "metadata": {},
   "outputs": [],
   "source": [
    "def return_latitude(latitude):\n",
    "    if len(latitude) > 1:\n",
    "        return latitude[:3] + ',' + latitude[3:]\n",
    "    else:\n",
    "        return '-23,0000000'\n",
    "\n",
    "def return_longitude(longitude):\n",
    "    if len(longitude) > 1:\n",
    "        return longitude[:3] + ',' + longitude[3:]\n",
    "    else:\n",
    "        return '-46,0000000'\n",
    "\n",
    "\n",
    "df['Latitude'] = df['Latitude'].apply(lambda x: return_latitude(str(x)))\n",
    "df['Longitude'] = df['Longitude'].apply(lambda x: return_longitude(str(x)))\n",
    "display(df[['Latitude', 'Longitude']])"
   ]
  },
  {
   "cell_type": "code",
   "execution_count": null,
   "metadata": {},
   "outputs": [],
   "source": [
    "df['Endereço'] = df['Endereço'].apply(lambda x: x.split(',')[0])\n",
    "# df[['Endereço']]\n",
    "df.to_excel('Corrigido_com_codigo.xlsx', index=False, freeze_panes=(1,1))"
   ]
  }
 ],
 "metadata": {
  "kernelspec": {
   "display_name": "Python 3",
   "language": "python",
   "name": "python3"
  },
  "language_info": {
   "codemirror_mode": {
    "name": "ipython",
    "version": 3
   },
   "file_extension": ".py",
   "mimetype": "text/x-python",
   "name": "python",
   "nbconvert_exporter": "python",
   "pygments_lexer": "ipython3",
   "version": "3.11.1"
  },
  "orig_nbformat": 4
 },
 "nbformat": 4,
 "nbformat_minor": 2
}
